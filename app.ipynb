{
 "cells": [
  {
   "cell_type": "code",
   "execution_count": 4,
   "id": "df155665",
   "metadata": {},
   "outputs": [],
   "source": [
    "from flask import Flask, render_template, request\n",
    "from werkzeug.utils import secure_filename\n",
    "from skimage import io\n",
    "from keras.models import load_model\n",
    "import cv2\n",
    "from PIL import Image #use PIL\n",
    "import numpy as np\n",
    "\n",
    "app = Flask(__name__)\n"
   ]
  },
  {
   "cell_type": "code",
   "execution_count": null,
   "id": "2611a68a",
   "metadata": {},
   "outputs": [],
   "source": [
    "@app.route('/', methods=['GET', 'POST'])\n",
    "def upload_file():\n",
    "    if request.method == 'POST':\n",
    "        file = request.files['file']\n",
    "        print(\"File Received\")\n",
    "        #filename = secure_filename(file.filename)\n",
    "        #file.save(app.config(\"static/\"+ filename)) #Heroku no need static\n",
    "        #file = open(app.config(\"static/\" + filename,\"r\")) #Heroku no need static\n",
    "        #model = load_model(\"Pneumonia\")\n",
    "        #image = cv2.imread(filename)\n",
    "        #gray = cv2.cvtColor(image,cv2.COLOR_BGR2GRAY)\n",
    "        #img = cv2.merge([gray,gray,gray])\n",
    "        #img.resize((150,150,3))\n",
    "        #img = np.asarray(img, dtype=\"float32\") #need to transfer to np to reshape\n",
    "        #img = img.reshape(1, img.shape[0], img.shape[1], img.shape[2]) #rgb to reshape to 1,100,100,3\n",
    "        #pred=model.predict(img)\n",
    "        print(\"Waitting\")\n",
    "        return(render_template(\"index1.html\", result=str(pred)))\n",
    "    else:\n",
    "        return(render_template(\"index1.html\", result=\"2\"))\n"
   ]
  },
  {
   "cell_type": "code",
   "execution_count": null,
   "id": "22ad800b",
   "metadata": {},
   "outputs": [],
   "source": [
    "if __name__ == \"__main__\":\n",
    "    app.run()"
   ]
  },
  {
   "cell_type": "code",
   "execution_count": null,
   "id": "d0ea56ad",
   "metadata": {},
   "outputs": [],
   "source": []
  }
 ],
 "metadata": {
  "kernelspec": {
   "display_name": "Python 3 (ipykernel)",
   "language": "python",
   "name": "python3"
  },
  "language_info": {
   "codemirror_mode": {
    "name": "ipython",
    "version": 3
   },
   "file_extension": ".py",
   "mimetype": "text/x-python",
   "name": "python",
   "nbconvert_exporter": "python",
   "pygments_lexer": "ipython3",
   "version": "3.9.12"
  }
 },
 "nbformat": 4,
 "nbformat_minor": 5
}
